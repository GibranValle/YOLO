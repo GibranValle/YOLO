{
 "cells": [
  {
   "cell_type": "markdown",
   "metadata": {},
   "source": [
    "### [IMPORTANT] This step need to be completed manually\n",
    "\n",
    "A. Get the labels coordinates with any tool and place them inside `all_position.py` \\\n",
    "B. When the file is loaded these coordinates will be transform to YOLO format, \\\n",
    "C. Finally fill the `positions.py` file\n"
   ]
  },
  {
   "cell_type": "markdown",
   "metadata": {},
   "source": [
    "### 1A. Create the `label_list.py`\n"
   ]
  },
  {
   "cell_type": "code",
   "execution_count": null,
   "metadata": {},
   "outputs": [],
   "source": [
    "import os\n",
    "from os import pardir\n",
    "from os.path import join, abspath\n",
    "\n",
    "DEBUG = 0\n",
    "\n",
    "current = os.getcwd()\n",
    "folderName = current.split(\"\\\\\")[-1]\n",
    "root = abspath(join(current, pardir))\n",
    "\n",
    "path = current + \"\\\\image_groups\\\\\"\n",
    "\n",
    "dir = os.listdir(path)\n",
    "folders: list[str] = []\n",
    "for file in dir:\n",
    "    filepath = f\"{path}\\\\{file}\"\n",
    "    if os.path.isdir(filepath):\n",
    "        folders.append(file)\n",
    "\n",
    "with open(\"label_list.py\", \"w\") as file:\n",
    "    file.write(\"LABELS = [\")\n",
    "    for label in folders:\n",
    "        file.write(f\"'{label}', \")\n",
    "    file.write(\"]\")\n",
    "\n",
    "print(path) if DEBUG else 0\n",
    "print(folders) if DEBUG else 0"
   ]
  },
  {
   "cell_type": "markdown",
   "metadata": {},
   "source": [
    "### 1B. Update the `obj.data` with the labels length and `obj.names`\n"
   ]
  },
  {
   "cell_type": "code",
   "execution_count": null,
   "metadata": {},
   "outputs": [],
   "source": [
    "from label_list import LABELS\n",
    "\n",
    "original = \"\"\n",
    "with open(\"data/obj.data\", \"r\") as file:\n",
    "    original = file.read()\n",
    "\n",
    "with open(\"data/obj.data\", \"w\") as file:\n",
    "    lines = original.split(\"\\n\")\n",
    "    lines[0] = f\"classes = {len(folders)}\"\n",
    "    text = \"\\n\".join(lines)\n",
    "    file.writelines(text)\n",
    "\n",
    "with open(\"./data/obj.names\", \"w\") as file:\n",
    "    text = \"\\n\".join(LABELS)\n",
    "    print(text)\n",
    "    file.write(\"\\n\".join(LABELS))  # type: ignore"
   ]
  },
  {
   "cell_type": "markdown",
   "metadata": {},
   "source": [
    "### 1.C Create `label` folder\n"
   ]
  },
  {
   "cell_type": "code",
   "execution_count": null,
   "metadata": {},
   "outputs": [],
   "source": [
    "from positions import POSITIONS\n",
    "from label_list import LABELS\n",
    "import os\n",
    "\n",
    "if not os.path.exists(\"label\"):\n",
    "    os.mkdir(\"label\")\n",
    "\n",
    "obj = {}\n",
    "\n",
    "for folder in folders:\n",
    "    path = f\"{current}\\\\image_groups\\\\{folder}\"\n",
    "    dir = os.listdir(path)\n",
    "\n",
    "    for file in dir:\n",
    "        filepath = f\"{path}\\\\{file}\"\n",
    "        if not os.path.isdir(filepath):\n",
    "            try:\n",
    "                obj[file].append(f\"{folder}\")  # type: ignore\n",
    "            except KeyError:\n",
    "                obj[file] = [f\"{folder}\"]  # type: ignore\n",
    "\n",
    "array: list[str] = []\n",
    "for filename, labels in obj.items():  # type: ignore\n",
    "    filepath: str = f\"{current}\\\\label\\\\{filename.replace('png', 'txt')}\"  # type: ignore\n",
    "    try:\n",
    "        with open(filepath, \"w\") as file:\n",
    "            for label in labels:  # type: ignore\n",
    "                i = LABELS.index(label)  # type: ignore\n",
    "                p = POSITIONS[label][\"position\"]\n",
    "                text = f\"{i} {p}\"\n",
    "                array.append(text)\n",
    "                file.write(text + \"\\n\")\n",
    "    except:\n",
    "        pass\n",
    "\n",
    "print(\"\\n\".join(list(set(array))))"
   ]
  },
  {
   "cell_type": "markdown",
   "metadata": {},
   "source": [
    "### 1C. Create `data/obj` folder with .txt files\n"
   ]
  },
  {
   "cell_type": "code",
   "execution_count": null,
   "metadata": {},
   "outputs": [],
   "source": [
    "from shutil import copy\n",
    "\n",
    "if not os.path.exists(\"data/obj\"):\n",
    "    os.mkdir(\"data/obj\")\n",
    "\n",
    "file_prefixes = [f.split(\".\")[0] for f in os.listdir(\"label\") if f.endswith(\".txt\")]\n",
    "\n",
    "for prefix in file_prefixes:\n",
    "    copy(f\"label/{prefix}.txt\", f\"data/obj/{prefix}.txt\")\n",
    "    copy(f\"images/{prefix}.png\", f\"data/obj/{prefix}.png\")"
   ]
  },
  {
   "cell_type": "markdown",
   "metadata": {},
   "source": [
    "### 2. Create the files need to train the neural network\n"
   ]
  },
  {
   "cell_type": "code",
   "execution_count": null,
   "metadata": {},
   "outputs": [],
   "source": [
    "from label_list import LABELS\n",
    "import glob\n",
    "\n",
    "with open(\"./cfg/yolov4-tiny-custom_template.cfg\", \"r\") as file:\n",
    "    cfg_content = file.read()\n",
    "    cfg_content = cfg_content.replace(\"_CLASS_NUMBER_\", str(len(LABELS)))  # type: ignore\n",
    "    cfg_content = cfg_content.replace(\n",
    "        \"_NUMBER_OF_FILTERS_\", str((len(LABELS) + 5) * 3)  # type: ignore\n",
    "    )\n",
    "    cfg_content = cfg_content.replace(\n",
    "        \"_MAX_BATCHES_\", str(max(6000, len(LABELS) * 2000))  # type: ignore\n",
    "    )\n",
    "\n",
    "with open(\"./cfg/yolov4-tiny-custom.cfg\", \"w\") as file:\n",
    "    file.write(cfg_content)\n",
    "\n",
    "\n",
    "current_dir = \"data/obj\"\n",
    "\n",
    "# Percentage of images to be used for the test set\n",
    "percentage_test = 10\n",
    "\n",
    "# Create and/or truncate train.txt and test.txt\n",
    "file_train = open(\"data/train.txt\", \"w\")\n",
    "file_test = open(\"data/test.txt\", \"w\")\n",
    "\n",
    "# Populate train.txt and test.txt\n",
    "counter = 1\n",
    "index_test = round(100 / percentage_test)\n",
    "\n",
    "for pathAndFilename in glob.iglob(os.path.join(current_dir, \"*.png\")):\n",
    "    print(pathAndFilename)\n",
    "    title, ext = os.path.splitext(os.path.basename(pathAndFilename))\n",
    "\n",
    "    if counter == index_test:\n",
    "\n",
    "        counter = 1\n",
    "\n",
    "        file_test.write(\"data/obj\" + \"/\" + title + \".png\" + \"\\n\")\n",
    "    else:\n",
    "        file_train.write(\"data/obj\" + \"/\" + title + \".png\" + \"\\n\")\n",
    "        counter = counter + 1"
   ]
  },
  {
   "cell_type": "markdown",
   "metadata": {},
   "source": [
    "### 3. Train the neural network\n"
   ]
  },
  {
   "cell_type": "code",
   "execution_count": null,
   "metadata": {},
   "outputs": [],
   "source": [
    "from subprocess import Popen, PIPE\n",
    "\n",
    "current = os.getcwd()\n",
    "root = abspath(join(current, pardir))\n",
    "\n",
    "exe = abspath(join(root, join(\"darknet\", \"darknet.exe\")))\n",
    "\n",
    "data = \"data/obj.data\"\n",
    "config = \"cfg/yolov4-tiny-custom.cfg\"\n",
    "conv_original = \"conv/yolov4.29\"\n",
    "conv_37 = \"conv/yolov4.aws.37\"\n",
    "\n",
    "process = Popen(\n",
    "    [exe, \"detector\", \"train\", data, config, conv_37], stdout=PIPE, text=True\n",
    ")\n",
    "while True:\n",
    "    output = process.stdout.readline().replace(\"\\n\", \"\")  # type: ignore\n",
    "    if process.poll() is not None:\n",
    "        break\n",
    "    if output:\n",
    "        print(output)\n",
    "process.poll()"
   ]
  },
  {
   "cell_type": "markdown",
   "metadata": {},
   "source": [
    "### 4. Test the neural network\n"
   ]
  },
  {
   "cell_type": "code",
   "execution_count": 2,
   "metadata": {},
   "outputs": [
    {
     "name": "stdout",
     "output_type": "stream",
     "text": [
      "Result images folder:  e:\\Documents\\Python\\YOLO\\RESULT_IMAGES\\NEURAL_NET_AWS\n",
      "creating images with labels..........\n",
      "Result images ready!!!\n"
     ]
    }
   ],
   "source": [
    "%run test_label_jp.py"
   ]
  },
  {
   "cell_type": "markdown",
   "metadata": {},
   "source": [
    "### 5 [SUGGESTED] Get pre-trained weights\n"
   ]
  },
  {
   "cell_type": "code",
   "execution_count": null,
   "metadata": {},
   "outputs": [],
   "source": [
    "from subprocess import Popen, PIPE\n",
    "\n",
    "current = os.getcwd()\n",
    "root = abspath(join(current, pardir))\n",
    "\n",
    "exe = abspath(join(root, join(\"darknet\", \"darknet.exe\")))\n",
    "\n",
    "layers = 37\n",
    "config = \"cfg/yolov4-tiny-custom.cfg\"\n",
    "weight = \"weight/aws_4icons.weights\"\n",
    "conv = f\"conv/yolov4.aws.{layers}\"\n",
    "\n",
    "# ./darknet partial cfg/extraction.cfg extraction.weights extraction.conv.weights 24\n",
    "\n",
    "process = Popen(\n",
    "    [exe, \"partial\", config, weight, conv, f\"{layers}\"],\n",
    "    stdout=PIPE,\n",
    "    stderr=PIPE,\n",
    "    shell=True,\n",
    "    text=True,\n",
    ")  # type\n",
    "out, err = process.communicate()\n",
    "print(out)\n",
    "print(err)"
   ]
  }
 ],
 "metadata": {
  "kernelspec": {
   "display_name": "Python 3",
   "language": "python",
   "name": "python3"
  },
  "language_info": {
   "codemirror_mode": {
    "name": "ipython",
    "version": 3
   },
   "file_extension": ".py",
   "mimetype": "text/x-python",
   "name": "python",
   "nbconvert_exporter": "python",
   "pygments_lexer": "ipython3",
   "version": "3.11.4"
  }
 },
 "nbformat": 4,
 "nbformat_minor": 2
}
